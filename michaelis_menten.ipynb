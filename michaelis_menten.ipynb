{
 "cells": [
  {
   "attachments": {},
   "cell_type": "markdown",
   "metadata": {},
   "source": [
    "# Step 1: Import of your data\n",
    "\n",
    "## 1.1 Import your data from excel\n",
    "\n",
    "In order to fit a michaelis menten model to your data, we first need to import your data from an excel file. The **pandas** package is able to read and extract data from microsoft excel spreadsheet using the command:\n",
    "\n",
    "```python\n",
    "\n",
    "df = pd.read_excel(r\"path\")\n",
    "\n",
    "```\n",
    "\n",
    "Now we have all the data imported. In the next step, we want to see, what the contents of the excel files are. Therefore, we visualise the head, which are the first five lines of the spreadsheet\n",
    "\n",
    "## 1.2 Visualise the content of the excel file\n",
    "\n",
    "```python\n",
    "df.head()\n",
    "\n",
    "```\n",
    "\n",
    "## 1.3 Select the data from your spreadsheet\n",
    "\n",
    "Now we want to select the columns of the spreadsheet, to which the model is intended to be fitted. For this purpose, we extract the concentration values and the measured reaction velocities:\n",
    "\n",
    "```python\n",
    "\n",
    "concentrations = df[\"concentration\"]\n",
    "data = df[\"v\"]\n",
    "\n",
    "```\n"
   ]
  },
  {
   "cell_type": "code",
   "execution_count": 51,
   "metadata": {},
   "outputs": [
    {
     "name": "stdout",
     "output_type": "stream",
     "text": [
      "0     0.0000\n",
      "1     0.0388\n",
      "2     0.0556\n",
      "3     0.1208\n",
      "4     0.1356\n",
      "5     0.2274\n",
      "6     0.3459\n",
      "7     0.3982\n",
      "8     0.4886\n",
      "9     0.5509\n",
      "10    0.6739\n",
      "11    0.7028\n",
      "12    0.7794\n",
      "Name: v, dtype: float64\n"
     ]
    },
    {
     "data": {
      "text/html": [
       "<div>\n",
       "<style scoped>\n",
       "    .dataframe tbody tr th:only-of-type {\n",
       "        vertical-align: middle;\n",
       "    }\n",
       "\n",
       "    .dataframe tbody tr th {\n",
       "        vertical-align: top;\n",
       "    }\n",
       "\n",
       "    .dataframe thead th {\n",
       "        text-align: right;\n",
       "    }\n",
       "</style>\n",
       "<table border=\"1\" class=\"dataframe\">\n",
       "  <thead>\n",
       "    <tr style=\"text-align: right;\">\n",
       "      <th></th>\n",
       "      <th>concentration</th>\n",
       "      <th>v</th>\n",
       "      <th>Unnamed: 2</th>\n",
       "      <th>Unnamed: 3</th>\n",
       "      <th>Unnamed: 4</th>\n",
       "      <th>Unnamed: 5</th>\n",
       "    </tr>\n",
       "  </thead>\n",
       "  <tbody>\n",
       "    <tr>\n",
       "      <th>0</th>\n",
       "      <td>0.00</td>\n",
       "      <td>0.0000</td>\n",
       "      <td>NaN</td>\n",
       "      <td>NaN</td>\n",
       "      <td>km</td>\n",
       "      <td>0.3</td>\n",
       "    </tr>\n",
       "    <tr>\n",
       "      <th>1</th>\n",
       "      <td>0.05</td>\n",
       "      <td>0.0388</td>\n",
       "      <td>NaN</td>\n",
       "      <td>NaN</td>\n",
       "      <td>vmax</td>\n",
       "      <td>2.0</td>\n",
       "    </tr>\n",
       "    <tr>\n",
       "      <th>2</th>\n",
       "      <td>0.10</td>\n",
       "      <td>0.0556</td>\n",
       "      <td>NaN</td>\n",
       "      <td>NaN</td>\n",
       "      <td>NaN</td>\n",
       "      <td>NaN</td>\n",
       "    </tr>\n",
       "    <tr>\n",
       "      <th>3</th>\n",
       "      <td>0.20</td>\n",
       "      <td>0.1208</td>\n",
       "      <td>NaN</td>\n",
       "      <td>NaN</td>\n",
       "      <td>NaN</td>\n",
       "      <td>NaN</td>\n",
       "    </tr>\n",
       "    <tr>\n",
       "      <th>4</th>\n",
       "      <td>0.30</td>\n",
       "      <td>0.1356</td>\n",
       "      <td>NaN</td>\n",
       "      <td>NaN</td>\n",
       "      <td>NaN</td>\n",
       "      <td>NaN</td>\n",
       "    </tr>\n",
       "  </tbody>\n",
       "</table>\n",
       "</div>"
      ],
      "text/plain": [
       "   concentration       v  Unnamed: 2  Unnamed: 3 Unnamed: 4  Unnamed: 5\n",
       "0           0.00  0.0000         NaN         NaN         km         0.3\n",
       "1           0.05  0.0388         NaN         NaN       vmax         2.0\n",
       "2           0.10  0.0556         NaN         NaN        NaN         NaN\n",
       "3           0.20  0.1208         NaN         NaN        NaN         NaN\n",
       "4           0.30  0.1356         NaN         NaN        NaN         NaN"
      ]
     },
     "execution_count": 51,
     "metadata": {},
     "output_type": "execute_result"
    }
   ],
   "source": [
    "# https://www.anotherscienceblog.com/post/the-michaelis-menten-enzyme-kinetics-model\n",
    "from scipy import stats\n",
    "import numpy as np\n",
    "import pandas as pd\n",
    "\n",
    "df = pd.read_excel(r\"GruppeB.xlsx\")\n",
    "\n",
    "\n",
    "concentrations = []\n",
    "\n",
    "concentrations = df[\"concentration\"]\n",
    "data = df[\"v\"]\n",
    "\n",
    "print(data)\n",
    "\n",
    "df.head()\n"
   ]
  },
  {
   "cell_type": "code",
   "execution_count": 52,
   "metadata": {},
   "outputs": [
    {
     "data": {
      "text/plain": [
       "Text(0, 0.5, 'reaction velocity in $mmol*L^{-1}*s^{-1}$')"
      ]
     },
     "execution_count": 52,
     "metadata": {},
     "output_type": "execute_result"
    },
    {
     "data": {
      "image/png": "[encoded data removed]",
      "text/plain": [
       "<Figure size 640x480 with 1 Axes>"
      ]
     },
     "metadata": {},
     "output_type": "display_data"
    }
   ],
   "source": [
    "import matplotlib.pyplot as plt\n",
    "\n",
    "fig, ax = plt.subplots()\n",
    "\n",
    "ax.plot(concentrations, data, linestyle=\"\", marker=\"x\")\n",
    "ax.set_xlabel(\"substrate concentration in $mmol*L^{-1}$\")\n",
    "ax.set_ylabel(\"reaction velocity in $mmol*L^{-1}*s^{-1}$\")\n"
   ]
  },
  {
   "cell_type": "code",
   "execution_count": 53,
   "metadata": {},
   "outputs": [
    {
     "name": "stdout",
     "output_type": "stream",
     "text": [
      "[0.     0.0388 0.0556 0.1208 0.1356 0.2274 0.3459 0.3982 0.4886 0.5509\n",
      " 0.6739 0.7028 0.7794]\n",
      "[[Model]]\n",
      "    Model(mm)\n",
      "[[Fit Statistics]]\n",
      "    # fitting method   = leastsq\n",
      "    # function evals   = 16\n",
      "    # data points      = 13\n",
      "    # variables        = 2\n",
      "    chi-square         = 0.00484277\n",
      "    reduced chi-square = 4.4025e-04\n",
      "    Akaike info crit   = -98.6378233\n",
      "    Bayesian info crit = -97.5079246\n",
      "    R-squared          = 0.99458994\n",
      "[[Variables]]\n",
      "    km:    1.88222220 +/- 0.16786160 (8.92%) (init = 2)\n",
      "    vmax:  0.96090510 +/- 0.03300709 (3.44%) (init = 2)\n",
      "[[Correlations]] (unreported correlations are < 0.100)\n",
      "    C(km, vmax) = 0.921\n",
      "[0.         0.02486528 0.04847615 0.09229612 0.13209999 0.20168251\n",
      " 0.33339036 0.426157   0.49502839 0.59045147 0.65342999 0.69810671\n",
      " 0.76813234]\n"
     ]
    }
   ],
   "source": [
    "import lmfit\n",
    "\n",
    "def mm(s, km, vmax):\n",
    "    v = vmax*s/(km+s)\n",
    "    return v\n",
    "\n",
    "reaction_velocity = np.array(data)\n",
    "print(reaction_velocity)\n",
    "concentrations = np.array(concentrations)\n",
    "\n",
    "\n",
    "mdl = lmfit.Model(mm)\n",
    "\n",
    "params = lmfit.Parameters()\n",
    "params.add('km', 2, min=0.000001, max=3)\n",
    "params.add('vmax', 2, min=0.0000000001, max=100)\n",
    "\n",
    "solution = mdl.fit(data,params=params,s=concentrations)\n",
    "\n",
    "print(solution.fit_report())\n",
    "print(solution.best_fit)\n",
    "\n",
    "fitted_data = solution.best_fit\n"
   ]
  },
  {
   "cell_type": "code",
   "execution_count": 54,
   "metadata": {},
   "outputs": [
    {
     "data": {
      "text/plain": [
       "Text(0, 0.5, 'reaction velocity in $mmol*L^{-1}*s^{-1}$')"
      ]
     },
     "execution_count": 54,
     "metadata": {},
     "output_type": "execute_result"
    },
    {
     "data": {
      "image/png": "[encoded data removed]",
      "text/plain": [
       "<Figure size 640x480 with 1 Axes>"
      ]
     },
     "metadata": {},
     "output_type": "display_data"
    }
   ],
   "source": [
    "import matplotlib.pyplot as plt\n",
    "\n",
    "fig, ax = plt.subplots()\n",
    "\n",
    "ax.plot(concentrations, fitted_data, linestyle=\"--\")\n",
    "ax.plot(concentrations, data, linestyle=\"\", marker=\"o\")\n",
    "ax.set_xlabel(\"substrate concentration in $mmol*L^{-1}$\")\n",
    "ax.set_ylabel(\"reaction velocity in $mmol*L^{-1}*s^{-1}$\")"
   ]
  }
 ],
 "metadata": {
  "kernelspec": {
   "display_name": "cadet",
   "language": "python",
   "name": "python3"
  },
  "language_info": {
   "codemirror_mode": {
    "name": "ipython",
    "version": 3
   },
   "file_extension": ".py",
   "mimetype": "text/x-python",
   "name": "python",
   "nbconvert_exporter": "python",
   "pygments_lexer": "ipython3",
   "version": "3.11.2"
  },
  "orig_nbformat": 4
 },
 "nbformat": 4,
 "nbformat_minor": 2
}
