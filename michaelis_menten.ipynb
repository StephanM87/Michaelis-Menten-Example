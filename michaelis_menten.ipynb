{
 "cells": [
  {
   "attachments": {},
   "cell_type": "markdown",
   "metadata": {},
   "source": [
    "# Step 1: Import of your data\n",
    "\n",
    "## 1.1 Import your data from excel\n",
    "\n",
    "In order to fit a michaelis menten model to your data, we first need to import your data from an excel file. The **pandas** package is able to read and extract data from microsoft excel spreadsheet using the command:\n",
    "\n",
    "```python\n",
    "\n",
    "df = pd.read_excel(r\"path\")\n",
    "\n",
    "```\n",
    "\n",
    "Now we have all the data imported. In the next step, we want to see, what the contents of the excel files are. Therefore, we visualise the head, which are the first five lines of the spreadsheet\n",
    "\n",
    "## 1.2 Visualise the content of the excel file\n",
    "\n",
    "```python\n",
    "df.head()\n",
    "\n",
    "```\n",
    "\n",
    "## 1.3 Select the data from your spreadsheet\n",
    "\n",
    "Now we want to select the columns of the spreadsheet, to which the model is intended to be fitted. For this purpose, we extract the concentration values and the measured reaction velocities:\n",
    "\n",
    "```python\n",
    "\n",
    "concentrations = df[\"concentration\"]\n",
    "data = df[\"v\"]\n",
    "\n",
    "```\n"
   ]
  },
  {
   "cell_type": "code",
   "execution_count": 2,
   "metadata": {},
   "outputs": [
    {
     "name": "stdout",
     "output_type": "stream",
     "text": [
      "0      0.0000\n",
      "1      1.4460\n",
      "2      2.6470\n",
      "3      4.6720\n",
      "4      7.7730\n",
      "5     11.4320\n",
      "6     18.7920\n",
      "7     23.9130\n",
      "8     26.5505\n",
      "9     29.3115\n",
      "10    32.1015\n",
      "11    31.4345\n",
      "12    37.1620\n",
      "Name: v, dtype: float64\n"
     ]
    },
    {
     "data": {
      "text/html": [
       "<div>\n",
       "<style scoped>\n",
       "    .dataframe tbody tr th:only-of-type {\n",
       "        vertical-align: middle;\n",
       "    }\n",
       "\n",
       "    .dataframe tbody tr th {\n",
       "        vertical-align: top;\n",
       "    }\n",
       "\n",
       "    .dataframe thead th {\n",
       "        text-align: right;\n",
       "    }\n",
       "</style>\n",
       "<table border=\"1\" class=\"dataframe\">\n",
       "  <thead>\n",
       "    <tr style=\"text-align: right;\">\n",
       "      <th></th>\n",
       "      <th>concentration</th>\n",
       "      <th>v</th>\n",
       "      <th>Unnamed: 2</th>\n",
       "      <th>Unnamed: 3</th>\n",
       "      <th>Unnamed: 4</th>\n",
       "      <th>Unnamed: 5</th>\n",
       "    </tr>\n",
       "  </thead>\n",
       "  <tbody>\n",
       "    <tr>\n",
       "      <th>0</th>\n",
       "      <td>0.00</td>\n",
       "      <td>0.000</td>\n",
       "      <td>NaN</td>\n",
       "      <td>NaN</td>\n",
       "      <td>km</td>\n",
       "      <td>0.3</td>\n",
       "    </tr>\n",
       "    <tr>\n",
       "      <th>1</th>\n",
       "      <td>0.05</td>\n",
       "      <td>1.446</td>\n",
       "      <td>NaN</td>\n",
       "      <td>NaN</td>\n",
       "      <td>vmax</td>\n",
       "      <td>2.0</td>\n",
       "    </tr>\n",
       "    <tr>\n",
       "      <th>2</th>\n",
       "      <td>0.10</td>\n",
       "      <td>2.647</td>\n",
       "      <td>NaN</td>\n",
       "      <td>NaN</td>\n",
       "      <td>NaN</td>\n",
       "      <td>NaN</td>\n",
       "    </tr>\n",
       "    <tr>\n",
       "      <th>3</th>\n",
       "      <td>0.20</td>\n",
       "      <td>4.672</td>\n",
       "      <td>NaN</td>\n",
       "      <td>NaN</td>\n",
       "      <td>NaN</td>\n",
       "      <td>NaN</td>\n",
       "    </tr>\n",
       "    <tr>\n",
       "      <th>4</th>\n",
       "      <td>0.30</td>\n",
       "      <td>7.773</td>\n",
       "      <td>NaN</td>\n",
       "      <td>NaN</td>\n",
       "      <td>NaN</td>\n",
       "      <td>NaN</td>\n",
       "    </tr>\n",
       "  </tbody>\n",
       "</table>\n",
       "</div>"
      ],
      "text/plain": [
       "   concentration      v  Unnamed: 2  Unnamed: 3 Unnamed: 4  Unnamed: 5\n",
       "0           0.00  0.000         NaN         NaN         km         0.3\n",
       "1           0.05  1.446         NaN         NaN       vmax         2.0\n",
       "2           0.10  2.647         NaN         NaN        NaN         NaN\n",
       "3           0.20  4.672         NaN         NaN        NaN         NaN\n",
       "4           0.30  7.773         NaN         NaN        NaN         NaN"
      ]
     },
     "execution_count": 2,
     "metadata": {},
     "output_type": "execute_result"
    }
   ],
   "source": [
    "# https://www.anotherscienceblog.com/post/the-michaelis-menten-enzyme-kinetics-model\n",
    "from scipy import stats\n",
    "import numpy as np\n",
    "import pandas as pd\n",
    "\n",
    "df = pd.read_excel(r\"Gruppe A.xlsx\")\n",
    "\n",
    "\n",
    "concentrations = []\n",
    "\n",
    "concentrations = df[\"concentration\"]\n",
    "data = df[\"v\"]\n",
    "\n",
    "print(data)\n",
    "\n",
    "df.head()\n"
   ]
  },
  {
   "cell_type": "code",
   "execution_count": 3,
   "metadata": {},
   "outputs": [
    {
     "data": {
      "text/plain": [
       "Text(0, 0.5, 'reaction velocity in $mmol*L^{-1}*s^{-1}$')"
      ]
     },
     "execution_count": 3,
     "metadata": {},
     "output_type": "execute_result"
    },
    {
     "data": {
      "image/png": "[encoded data removed]",
      "text/plain": [
       "<Figure size 640x480 with 1 Axes>"
      ]
     },
     "metadata": {},
     "output_type": "display_data"
    }
   ],
   "source": [
    "import matplotlib.pyplot as plt\n",
    "\n",
    "fig, ax = plt.subplots()\n",
    "\n",
    "ax.plot(concentrations, data, linestyle=\"\", marker=\"x\")\n",
    "ax.set_xlabel(\"substrate concentration in $mmol*L^{-1}$\")\n",
    "ax.set_ylabel(\"reaction velocity in $mmol*L^{-1}*s^{-1}$\")\n"
   ]
  },
  {
   "cell_type": "code",
   "execution_count": 4,
   "metadata": {},
   "outputs": [
    {
     "name": "stdout",
     "output_type": "stream",
     "text": [
      "[ 0.      1.446   2.647   4.672   7.773  11.432  18.792  23.913  26.5505\n",
      " 29.3115 32.1015 31.4345 37.162 ]\n",
      "[[Model]]\n",
      "    Model(mm)\n",
      "[[Fit Statistics]]\n",
      "    # fitting method   = leastsq\n",
      "    # function evals   = 17\n",
      "    # data points      = 13\n",
      "    # variables        = 2\n",
      "    chi-square         = 9.55472175\n",
      "    reduced chi-square = 0.86861107\n",
      "    Akaike info crit   = -0.00288072\n",
      "    Bayesian info crit = 1.12701799\n",
      "    R-squared          = 0.99553260\n",
      "[[Variables]]\n",
      "    km:    1.27410301 +/- 0.09912314 (7.78%) (init = 2)\n",
      "    vmax:  42.1546799 +/- 1.09422687 (2.60%) (init = 2)\n",
      "[[Correlations]] (unreported correlations are < 0.100)\n",
      "    C(km, vmax) = 0.888\n",
      "[ 0.          1.59182026  3.0677962   5.71936692  8.03403837 11.88056152\n",
      " 18.53683836 22.79368128 25.75036874 29.58843982 31.97107058 33.59418854\n",
      " 36.03332429]\n"
     ]
    }
   ],
   "source": [
    "import lmfit\n",
    "\n",
    "def mm(s, km, vmax):\n",
    "    v = vmax*s/(km+s)\n",
    "    return v\n",
    "\n",
    "reaction_velocity = np.array(data)\n",
    "print(reaction_velocity)\n",
    "concentrations = np.array(concentrations)\n",
    "\n",
    "\n",
    "mdl = lmfit.Model(mm)\n",
    "\n",
    "params = lmfit.Parameters()\n",
    "params.add('km', 2, min=0.000001, max=3)\n",
    "params.add('vmax', 2, min=0.0000000001, max=100)\n",
    "\n",
    "solution = mdl.fit(data,params=params,s=concentrations)\n",
    "\n",
    "print(solution.fit_report())\n",
    "print(solution.best_fit)\n",
    "\n",
    "fitted_data = solution.best_fit\n"
   ]
  },
  {
   "cell_type": "code",
   "execution_count": 54,
   "metadata": {},
   "outputs": [
    {
     "data": {
      "text/plain": [
       "Text(0, 0.5, 'reaction velocity in $mmol*L^{-1}*s^{-1}$')"
      ]
     },
     "execution_count": 54,
     "metadata": {},
     "output_type": "execute_result"
    },
    {
     "data": {
      "image/png": "[encoded data removed]",
      "text/plain": [
       "<Figure size 640x480 with 1 Axes>"
      ]
     },
     "metadata": {},
     "output_type": "display_data"
    }
   ],
   "source": [
    "import matplotlib.pyplot as plt\n",
    "\n",
    "fig, ax = plt.subplots()\n",
    "\n",
    "ax.plot(concentrations, fitted_data, linestyle=\"--\")\n",
    "ax.plot(concentrations, data, linestyle=\"\", marker=\"o\")\n",
    "ax.set_xlabel(\"substrate concentration in $mmol*L^{-1}$\")\n",
    "ax.set_ylabel(\"reaction velocity in $mmol*L^{-1}*s^{-1}$\")\n",
    "\n",
    "plt.savefig(\"Michaelis menten model.svg\", format=\"svg\")"
   ]
  }
 ],
 "metadata": {
  "kernelspec": {
   "display_name": "cadet",
   "language": "python",
   "name": "python3"
  },
  "language_info": {
   "codemirror_mode": {
    "name": "ipython",
    "version": 3
   },
   "file_extension": ".py",
   "mimetype": "text/x-python",
   "name": "python",
   "nbconvert_exporter": "python",
   "pygments_lexer": "ipython3",
   "version": "3.11.2"
  },
  "orig_nbformat": 4
 },
 "nbformat": 4,
 "nbformat_minor": 2
}
